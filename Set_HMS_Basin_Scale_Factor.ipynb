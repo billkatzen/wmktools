{
 "cells": [
  {
   "cell_type": "code",
   "execution_count": 2,
   "metadata": {},
   "outputs": [],
   "source": [
    "\n",
    "#\n",
    "#  This script is for use with HEC-HMS for Calibration of Soil Parametes\n",
    "#  by varying scale factors for each Soil Parameter across all subbasins\n",
    "#    \n",
    "#  The script will read the .basin file\n",
    "#  and override scale factors for *ALL* subbasins using the values provided below. \n",
    "#\n",
    "#  You will need to define the following:\n",
    "#   1. Soil Parameter Scale Factors\n",
    "#   2. File Name of the .basin file\n",
    "#\n",
    "#  Repeat for each .basin file you want to edit\n",
    "#  \n",
    "\n",
    "import re\n",
    "import chardet\n",
    "\n",
    "# Define the new values for each entry\n",
    "initial_deficit_scale = 0.1\n",
    "maximum_deficit_scale = 1.0\n",
    "percolation_rate_scale = 0.1\n",
    "impervious_area_scale = 1.0\n",
    "\n",
    "# Path to your text file\n",
    "file_path = r\"C:\\WhiskyChitto_HMS_Calibration\\Harvey_2017_ID_0.1_PR_0.1.dss\"\n",
    "\n",
    "# Detect the encoding of the file\n",
    "with open(file_path, 'rb') as file:\n",
    "    result = chardet.detect(file.read())\n",
    "\n",
    "# Read the contents of the file using the detected encoding\n",
    "with open(file_path, \"r\", encoding=result['encoding']) as file:\n",
    "    file_contents = file.read()\n",
    "\n",
    "# Define a dictionary with the search patterns and corresponding replacement values\n",
    "search_replace = {\n",
    "    r\"Initial Deficit Scale:\\s*([\\d.]+)\": f\"Initial Deficit Scale: {initial_deficit_scale}\",\n",
    "    r\"Maximum Deficit Scale:\\s*([\\d.]+)\": f\"Maximum Deficit Scale: {maximum_deficit_scale}\",\n",
    "    r\"Percolation Rate Scale:\\s*([\\d.]+)\": f\"Percolation Rate Scale: {percolation_rate_scale}\",\n",
    "    r\"Impervious Area Scale:\\s*([\\d.]+)\": f\"Impervious Area Scale: {impervious_area_scale}\"\n",
    "}\n",
    "\n",
    "# Search and replace the entries in the file contents\n",
    "for pattern, replacement in search_replace.items():\n",
    "    file_contents = re.sub(pattern, replacement, file_contents)\n",
    "\n",
    "# Write the updated contents back to the file using the same encoding\n",
    "with open(file_path, \"w\", encoding=result['encoding']) as file:\n",
    "    file.write(file_contents)\n",
    "\n",
    "print(\"File updated successfully!\")\n"
   ]
  }
 ],
 "metadata": {
  "kernelspec": {
   "display_name": "RASDataExtract",
   "language": "python",
   "name": "python3"
  },
  "language_info": {
   "codemirror_mode": {
    "name": "ipython",
    "version": 3
   },
   "file_extension": ".py",
   "mimetype": "text/x-python",
   "name": "python",
   "nbconvert_exporter": "python",
   "pygments_lexer": "ipython3",
   "version": "3.11.2"
  },
  "orig_nbformat": 4
 },
 "nbformat": 4,
 "nbformat_minor": 2
}

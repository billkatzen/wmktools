#
#  This script is for use with HEC-HMS for Calibration of Soil Parametes
#  by varying scale factors for each Soil Parameter across all subbasins
#    
#  The script will read the .basin file
#  and override scale factors for *ALL* subbasins using the values provided below. 
#
#  You will need to define the following:
#   1. Soil Parameter Scale Factors
#   2. File Name of the .basin file
#
#  Repeat for each .basin file you want to edit
#  


import re
import chardet

# Define the new values for each entry
initial_deficit_scale = 0.1
maximum_deficit_scale = 1.0
percolation_rate_scale = 0.1
impervious_area_scale = 1.0

# Path to your text file
file_path = r"C:\path\to\hms\project\yourbasin.basin"

# Detect the encoding of the file
with open(file_path, 'rb') as file:
    result = chardet.detect(file.read())

# Read the contents of the file using the detected encoding
with open(file_path, "r", encoding=result['encoding']) as file:
    file_contents = file.read()

# Define a dictionary with the search patterns and corresponding replacement values
search_replace = {
    r"Initial Deficit Scale:\s*([\d.]+)": f"Initial Deficit Scale: {initial_deficit_scale}",
    r"Maximum Deficit Scale:\s*([\d.]+)": f"Maximum Deficit Scale: {maximum_deficit_scale}",
    r"Percolation Rate Scale:\s*([\d.]+)": f"Percolation Rate Scale: {percolation_rate_scale}",
    r"Impervious Area Scale:\s*([\d.]+)": f"Impervious Area Scale: {impervious_area_scale}"
}

# Search and replace the entries in the file contents
for pattern, replacement in search_replace.items():
    file_contents = re.sub(pattern, replacement, file_contents)

# Write the updated contents back to the file using the same encoding
with open(file_path, "w", encoding=result['encoding']) as file:
    file.write(file_contents)

print("File updated successfully!")
